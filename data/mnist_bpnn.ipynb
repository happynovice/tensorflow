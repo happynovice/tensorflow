{
 "cells": [
  {
   "cell_type": "code",
   "execution_count": 5,
   "metadata": {
    "collapsed": true
   },
   "outputs": [],
   "source": [
    "import tensorflow as tf\n",
    "from tensorflow.examples.tutorials.mnist import input_data"
   ]
  },
  {
   "cell_type": "code",
   "execution_count": 27,
   "metadata": {
    "collapsed": false
   },
   "outputs": [
    {
     "name": "stdout",
     "output_type": "stream",
     "text": [
      "Extracting MNIST_data\\train-images-idx3-ubyte.gz\n",
      "Extracting MNIST_data\\train-labels-idx1-ubyte.gz\n",
      "Extracting MNIST_data\\t10k-images-idx3-ubyte.gz\n",
      "Extracting MNIST_data\\t10k-labels-idx1-ubyte.gz\n",
      "0accurce: 0.2052\n",
      "5accurce: 0.4691\n",
      "10accurce: 0.5572\n",
      "15accurce: 0.6272\n",
      "20accurce: 0.6347\n",
      "25accurce: 0.6439\n",
      "30accurce: 0.6458\n",
      "35accurce: 0.651\n",
      "40accurce: 0.6502\n",
      "45accurce: 0.6555\n",
      "50accurce: 0.6575\n",
      "55accurce: 0.6595\n",
      "60accurce: 0.6603\n",
      "65accurce: 0.6618\n",
      "70accurce: 0.6604\n",
      "75accurce: 0.6634\n",
      "80accurce: 0.6619\n",
      "85accurce: 0.6651\n",
      "90accurce: 0.666\n",
      "95accurce: 0.6678\n",
      "100accurce: 0.6662\n"
     ]
    }
   ],
   "source": [
    "mnist=input_data.read_data_sets(\"MNIST_data\",one_hot=True)\n",
    "batch_size=50\n",
    "num_batch=mnist.train.num_examples //batch_size\n",
    "x=tf.placeholder(tf.float32,[None,784])\n",
    "y=tf.placeholder(tf.float32,[None,10])\n",
    "\n",
    "#\n",
    "w1=tf.Variable(tf.random_normal([784,20]))\n",
    "b1=tf.Variable(tf.random_normal([20]))\n",
    "L1=tf.matmul(x,w1)+b1\n",
    "out1=tf.nn.leaky_relu(L1)\n",
    "#\n",
    "w2=tf.Variable(tf.random_normal([20,10]))\n",
    "b2=tf.Variable(tf.random_normal([10]))\n",
    "L2=tf.matmul(out1,w2)+b2\n",
    "prediction=tf.nn.softmax(L2)\n",
    "#\n",
    "loss=tf.reduce_mean(tf.square(prediction-y))\n",
    "train_data=tf.train.GradientDescentOptimizer(0.4).minimize(loss)\n",
    "init=tf.global_variables_initializer()\n",
    "correct_prediction=tf.equal(tf.argmax(y,1),tf.argmax(prediction,1))\n",
    "accuracy=tf.reduce_mean(tf.cast(correct_prediction,tf.float32))\n",
    "\n",
    "#\n",
    "with tf.Session() as sess:\n",
    "    sess.run(init)\n",
    "    for step in range(101):\n",
    "        for batch in range(num_batch):\n",
    "            batch_xs,batch_ys=mnist.train.next_batch(batch_size)\n",
    "            sess.run(train_data,feed_dict={x : batch_xs , y : batch_ys})\n",
    "        acc=sess.run(accuracy,feed_dict={x:mnist.test.images,y:mnist.test.labels})\n",
    "        if step %5==0:\n",
    "            print(str(step)+\"accurce: \"+str(acc))"
   ]
  },
  {
   "cell_type": "code",
   "execution_count": null,
   "metadata": {
    "collapsed": true
   },
   "outputs": [],
   "source": []
  }
 ],
 "metadata": {
  "kernelspec": {
   "display_name": "Python [conda root]",
   "language": "python",
   "name": "conda-root-py"
  },
  "language_info": {
   "codemirror_mode": {
    "name": "ipython",
    "version": 3
   },
   "file_extension": ".py",
   "mimetype": "text/x-python",
   "name": "python",
   "nbconvert_exporter": "python",
   "pygments_lexer": "ipython3",
   "version": "3.5.2"
  }
 },
 "nbformat": 4,
 "nbformat_minor": 1
}
