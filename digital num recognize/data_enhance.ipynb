{
 "cells": [
  {
   "cell_type": "code",
   "execution_count": 1,
   "metadata": {},
   "outputs": [
    {
     "name": "stderr",
     "output_type": "stream",
     "text": [
      "E:\\anaconda_3\\lib\\site-packages\\h5py\\__init__.py:36: FutureWarning: Conversion of the second argument of issubdtype from `float` to `np.floating` is deprecated. In future, it will be treated as `np.float64 == np.dtype(float).type`.\n",
      "  from ._conv import register_converters as _register_converters\n"
     ]
    }
   ],
   "source": [
    "import tensorflow as tf\n",
    "import numpy as np\n",
    "import cv2\n",
    "import os\n"
   ]
  },
  {
   "cell_type": "code",
   "execution_count": 3,
   "metadata": {},
   "outputs": [
    {
     "name": "stdout",
     "output_type": "stream",
     "text": [
      "ok\n"
     ]
    }
   ],
   "source": [
    "img_cols=60\n",
    "img_rows=60\n",
    "img_channel=1\n",
    "classification_num=10\n",
    "label_data=np.array((1,classification_num))\n",
    "pic_read_num=0\n",
    "total_pic_folder=\"D:/train_picture/\"\n",
    "#files=os.listdir(pic_folder)\n",
    "########################################\n",
    "pic_folder_list=[]\n",
    "for num in range(10):\n",
    "    signal_pic_folder=total_pic_folder+str(num)+'/'\n",
    "    files=os.listdir(signal_pic_folder)\n",
    "    for file in files:\n",
    "        if files.index(file)<1200:\n",
    "            pic_folder_buffer=signal_pic_folder+file\n",
    "            pic_folder_list.append(pic_folder_buffer)\n",
    "np.random.shuffle(pic_folder_list)    \n",
    "np.random.shuffle(pic_folder_list)\n",
    "#####################################3333\n",
    "for num in range(10):\n",
    "    signal_pic_folder=total_pic_folder+str(num)+'/'\n",
    "    files=os.listdir(signal_pic_folder)\n",
    "    for file in files:\n",
    "        if files.index(file)<1200:\n",
    "            img_src=cv2.imread(pic_folder_list[pic_read_num])\n",
    "            img_src=cv2.cvtColor(img_src,cv2.COLOR_BGR2GRAY)\n",
    "            img_resize=cv2.resize(img_src,(1,img_cols*img_rows))\n",
    "            train_data=\n",
    "            label_data_buffer=np.zeros((1,classification_num))\n",
    "            label_data=\n",
    "        \n",
    "        \n",
    "print('ok')"
   ]
  },
  {
   "cell_type": "code",
   "execution_count": 15,
   "metadata": {},
   "outputs": [
    {
     "ename": "TypeError",
     "evalue": "must be str, not list",
     "output_type": "error",
     "traceback": [
      "\u001b[1;31m---------------------------------------------------------------------------\u001b[0m",
      "\u001b[1;31mTypeError\u001b[0m                                 Traceback (most recent call last)",
      "\u001b[1;32m<ipython-input-15-beb84c435c31>\u001b[0m in \u001b[0;36m<module>\u001b[1;34m()\u001b[0m\n\u001b[1;32m----> 1\u001b[1;33m \u001b[0msignal_pic_folder\u001b[0m\u001b[1;33m+\u001b[0m\u001b[0mfiles\u001b[0m\u001b[1;33m\u001b[0m\u001b[0m\n\u001b[0m",
      "\u001b[1;31mTypeError\u001b[0m: must be str, not list"
     ]
    }
   ],
   "source": []
  },
  {
   "cell_type": "code",
   "execution_count": null,
   "metadata": {},
   "outputs": [],
   "source": [
    "\n",
    "\n",
    "\n",
    "for picture_name in picture_names:\n",
    "    \n",
    "    img_src=cv2.imread(signal_pic_folder+file)\n",
    "    img_src=cv2.cvtColor(imf_src,cv2.COLOR_BGR2GRAY)\n",
    "    img_resize=cv2.resize(img_src,(img_cols*img_rows,1))\n",
    "    train_data[pic_read_num]=img_resize\n",
    "    train_label[pic_read_num][picture_num]=1\n",
    "    \n",
    "        "
   ]
  },
  {
   "cell_type": "code",
   "execution_count": 32,
   "metadata": {},
   "outputs": [],
   "source": [
    "pic_folder_list=[]\n",
    "for num in range(10):\n",
    "    signal_pic_folder=total_pic_folder+str(num)+'/'\n",
    "    files=os.listdir(signal_pic_folder)\n",
    "    for file in files:\n",
    "        if files.index(file)<1200:\n",
    "            pic_folder_buffer=signal_pic_folder+file\n",
    "            pic_folder_list.append(pic_folder_buffer)\n",
    "np.random.shuffle(pic_folder_list)    \n",
    "np.random.shuffle(pic_folder_list)"
   ]
  },
  {
   "cell_type": "code",
   "execution_count": 34,
   "metadata": {
    "scrolled": false
   },
   "outputs": [
    {
     "data": {
      "text/plain": [
       "17"
      ]
     },
     "execution_count": 34,
     "metadata": {},
     "output_type": "execute_result"
    }
   ],
   "source": []
  },
  {
   "cell_type": "code",
   "execution_count": 26,
   "metadata": {},
   "outputs": [
    {
     "data": {
      "text/plain": [
       "17"
      ]
     },
     "execution_count": 26,
     "metadata": {},
     "output_type": "execute_result"
    }
   ],
   "source": [
    "pic_folder_list[0].index('0')"
   ]
  },
  {
   "cell_type": "code",
   "execution_count": null,
   "metadata": {},
   "outputs": [],
   "source": []
  }
 ],
 "metadata": {
  "kernelspec": {
   "display_name": "Python 3",
   "language": "python",
   "name": "python3"
  },
  "language_info": {
   "codemirror_mode": {
    "name": "ipython",
    "version": 3
   },
   "file_extension": ".py",
   "mimetype": "text/x-python",
   "name": "python",
   "nbconvert_exporter": "python",
   "pygments_lexer": "ipython3",
   "version": "3.6.4"
  }
 },
 "nbformat": 4,
 "nbformat_minor": 2
}
