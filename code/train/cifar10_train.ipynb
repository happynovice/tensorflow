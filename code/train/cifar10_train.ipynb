{
 "cells": [
  {
   "cell_type": "code",
   "execution_count": 3,
   "metadata": {},
   "outputs": [
    {
     "name": "stderr",
     "output_type": "stream",
     "text": [
      "/usr/local/miniconda3/envs/dl/lib/python3.6/site-packages/h5py/__init__.py:36: FutureWarning: Conversion of the second argument of issubdtype from `float` to `np.floating` is deprecated. In future, it will be treated as `np.float64 == np.dtype(float).type`.\n",
      "  from ._conv import register_converters as _register_converters\n"
     ]
    },
    {
     "name": "stdout",
     "output_type": "stream",
     "text": [
      "read data ok\n"
     ]
    }
   ],
   "source": [
    "import tensorflow as tf\n",
    "import numpy as np\n",
    "# load data\n",
    "#train_data=np.load(\"train_data.npy\")\n",
    "#train_label=np.load(\"train_label.npy\")\n",
    "#test_data=np.load(\"test_data.npy\")\n",
    "#test_label=np.load(\"test_label.npy\")\n",
    "train_data=np.load(\"c_train_data.npy\")\n",
    "train_label=np.load(\"c_train_label.npy\")\n",
    "test_data=np.load(\"c_test_data.npy\")\n",
    "test_label=np.load(\"c_test_label.npy\")\n",
    "print(\"read data ok\")"
   ]
  },
  {
   "cell_type": "code",
   "execution_count": null,
   "metadata": {},
   "outputs": [],
   "source": []
  },
  {
   "cell_type": "code",
   "execution_count": 6,
   "metadata": {},
   "outputs": [
    {
     "name": "stdout",
     "output_type": "stream",
     "text": [
      "WARNING:tensorflow:From <ipython-input-6-41666956f177>:65: softmax_cross_entropy_with_logits (from tensorflow.python.ops.nn_ops) is deprecated and will be removed in a future version.\n",
      "Instructions for updating:\n",
      "\n",
      "Future major versions of TensorFlow will allow gradients to flow\n",
      "into the labels input on backprop by default.\n",
      "\n",
      "See tf.nn.softmax_cross_entropy_with_logits_v2.\n",
      "\n",
      "iter: 0acc  0.4359  acc_data0.4589\n",
      "iter: 1acc  0.5112  acc_data0.5317\n",
      "iter: 2acc  0.6082  acc_data0.63\n",
      "iter: 3acc  0.6293  acc_data0.6433\n",
      "iter: 4acc  0.6532  acc_data0.6873\n",
      "iter: 5acc  0.6451  acc_data0.6818\n",
      "iter: 6acc  0.6675  acc_data0.7263\n",
      "iter: 7acc  0.6646  acc_data0.7245\n",
      "iter: 8acc  0.6933  acc_data0.7574\n",
      "iter: 9acc  0.6903  acc_data0.7635\n",
      "iter: 10acc  0.7005  acc_data0.7745\n",
      "iter: 11acc  0.7005  acc_data0.7875\n",
      "iter: 12acc  0.7016  acc_data0.7865\n",
      "iter: 13acc  0.7155  acc_data0.8133\n",
      "iter: 14acc  0.7052  acc_data0.8116\n",
      "iter: 15acc  0.7194  acc_data0.8164\n",
      "iter: 16acc  0.7081  acc_data0.8286\n",
      "iter: 17acc  0.7018  acc_data0.8147\n",
      "iter: 18acc  0.7265  acc_data0.8479\n",
      "iter: 19acc  0.7174  acc_data0.84\n",
      "iter: 20acc  0.7195  acc_data0.8429\n",
      "ok\n"
     ]
    }
   ],
   "source": [
    "img_size=32\n",
    "batch_size=128\n",
    "img_channel=3\n",
    "acc_max=0\n",
    "conv_kernel_1=64\n",
    "conv_kernel_2=128\n",
    "conv_kernel_3=256\n",
    "kernel_size_1=5\n",
    "kernel_size_2=5\n",
    "kernel_size_3=3\n",
    "keep_prob_use=0.7\n",
    "length_of_fc1=(img_size//4)*(img_size//4)*conv_kernel_3\n",
    "fc1_num=1600\n",
    "num_batch=50000//batch_size\n",
    "x=tf.placeholder(tf.float32,[None,img_size,img_size,3])\n",
    "y=tf.placeholder(tf.float32,[None,10])\n",
    "keep_prob=tf.placeholder(tf.float32)\n",
    "#w=tf.Variable(tf.zeros([img_size,img_size,3,100]))\n",
    "#b=tf.Variable(tf.zeros([100]))\n",
    "\n",
    "def weight_variable(shape,name_use):\n",
    "    initial=tf.truncated_normal(shape,stddev=0.01)\n",
    "    return tf.Variable(initial,name=name_use)\n",
    "def biase_variable(shape,name_use):\n",
    "    init=tf.constant(0.1,shape=shape)\n",
    "    return tf.Variable(init,name=name_use)\n",
    "\n",
    "def conv_2d(x,W):\n",
    "    return tf.nn.conv2d(x,W,strides=[1,1,1,1],padding='SAME')\n",
    "def max_pool(x):\n",
    "    return tf.nn.max_pool(x,ksize=[1,2,2,1],strides=[1,2,2,1],padding='SAME')\n",
    "\n",
    "#输入层\n",
    "x_image=tf.reshape(x,[-1,img_size,img_size,img_channel])\n",
    "#\n",
    "w_conv1=weight_variable([kernel_size_1,kernel_size_1,img_channel,conv_kernel_1],\"w_conv1\")  # 32 kernels extract feature from 3 plane\n",
    "b_conv1=biase_variable([conv_kernel_1],\"b_conv1\")\n",
    "h_conv1=tf.nn.leaky_relu(conv_2d(x_image,w_conv1)+b_conv1)\n",
    "h_pool1=max_pool(h_conv1)\n",
    "\n",
    "\n",
    "w_conv2=weight_variable([kernel_size_2,kernel_size_2,conv_kernel_1,conv_kernel_2],\"w_conv2\")\n",
    "b_conv2=biase_variable([conv_kernel_2],\"b_conv2\")\n",
    "h_conv2=tf.nn.leaky_relu(conv_2d(h_pool1,w_conv2)+b_conv2)\n",
    "h_pool2=max_pool(h_conv2)\n",
    "\n",
    "w_conv3=weight_variable([kernel_size_3,kernel_size_3,conv_kernel_2,conv_kernel_3],\"w_conv3\")\n",
    "b_conv3=biase_variable([conv_kernel_3],\"b_conv3\")\n",
    "h_conv3=tf.nn.leaky_relu(conv_2d(h_pool2,w_conv3)+b_conv3)\n",
    "\n",
    "\n",
    "w_fc1_buff=weight_variable([length_of_fc1,fc1_num],\"w_fc1_buff\")\n",
    "b_fc1=biase_variable([fc1_num],\"b_fc1\")\n",
    "w_fc1 = tf.nn.dropout(w_fc1_buff, keep_prob) \n",
    "\n",
    "h_pool2_flat=tf.reshape(h_conv3,[-1,length_of_fc1])\n",
    "h_fc1=tf.nn.leaky_relu(tf.matmul(h_pool2_flat,w_fc1)+b_fc1)\n",
    "\n",
    "w_fc2_buff=weight_variable([fc1_num,10],\"w_fc2_buff\")\n",
    "b_fc2=biase_variable([10],\"b_fc2\")\n",
    "w_fc2 = tf.nn.dropout(w_fc2_buff, keep_prob) \n",
    "##\n",
    "saver=tf.train.Saver()\n",
    "prediction=tf.nn.softmax(tf.matmul(h_fc1,w_fc2)+b_fc2)\n",
    "cross_entropy=tf.reduce_mean(tf.nn.softmax_cross_entropy_with_logits(labels=y,logits=prediction))\n",
    "#tf.nn.sparse_softmax_cross_entropy_with_logits\n",
    "train_step=tf.train.AdamOptimizer(0.9*(1e-4)).minimize(cross_entropy)\n",
    "#结果存放在布尔变量中\n",
    "correct_prediction=tf.equal(tf.argmax(prediction,1),tf.argmax(y,1))\n",
    "accuracy=tf.reduce_mean(tf.cast(correct_prediction,tf.float32))\n",
    "##\n",
    "with tf.Session() as sess:\n",
    "    sess.run(tf.global_variables_initializer())\n",
    "    saver=tf.train.Saver()\n",
    "    for epoth in range(21):\n",
    "        for batch in range(num_batch):\n",
    "            if batch<(num_batch-1):\n",
    "                batch_x=train_data[(batch*batch_size):((batch+1)*batch_size)]\n",
    "                batch_y=train_label[(batch*batch_size):((batch+1)*batch_size)]\n",
    "                sess.run(train_step,feed_dict={x:batch_x,y:batch_y,keep_prob:keep_prob_use})\n",
    "        #acc=sess.run(accuracy,feed_dict={x:test_pix,y:test_label})\n",
    "        acc=sess.run(accuracy,feed_dict={x:test_data,y:test_label,keep_prob:keep_prob_use})\n",
    "        acc_data=sess.run(accuracy,feed_dict={x:train_data[0:10000],y:train_label[0:10000],keep_prob:keep_prob_use})\n",
    "        print(\"iter: \"+str(epoth)+\"acc  \"+str(acc)+\"  acc_data\"+str(acc_data))  \n",
    "        if acc>acc_max:\n",
    "            acc_max=acc\n",
    "            saver.save(sess,\"checkpoint_dir/cifar10_test\")\n",
    "print(\"ok\")"
   ]
  },
  {
   "cell_type": "code",
   "execution_count": null,
   "metadata": {},
   "outputs": [],
   "source": [
    "iter: 0acc  0.4292  acc_data0.4252\n",
    "iter: 1acc  0.4988  acc_data0.498\n",
    "iter: 2acc  0.5403  acc_data0.5569\n",
    "iter: 3acc  0.6193  acc_data0.6454\n",
    "iter: 4acc  0.6035  acc_data0.6253\n",
    "iter: 5acc  0.6323  acc_data0.6584\n",
    "iter: 6acc  0.628  acc_data0.678\n",
    "iter: 7acc  0.6623  acc_data0.7295\n",
    "iter: 8acc  0.687  acc_data0.7407\n",
    "iter: 9acc  0.6961  acc_data0.7572\n",
    "iter: 10acc  0.6909  acc_data0.7652\n",
    "iter: 11acc  0.7084  acc_data0.7854\n",
    "iter: 12acc  0.7025  acc_data0.7795\n",
    "iter: 13acc  0.7131  acc_data0.7967\n",
    "iter: 14acc  0.7128  acc_data0.7985\n",
    "iter: 15acc  0.7213  acc_data0.8095\n",
    "iter: 16acc  0.7198  acc_data0.8099\n",
    "iter: 17acc  0.711  acc_data0.8148\n",
    "iter: 18acc  0.7234  acc_data0.8208\n",
    "iter: 19acc  0.7229  acc_data0.8365\n",
    "iter: 20acc  0.7294  acc_data0.8421\n"
   ]
  },
  {
   "cell_type": "code",
   "execution_count": 19,
   "metadata": {},
   "outputs": [
    {
     "name": "stdout",
     "output_type": "stream",
     "text": [
      "INFO:tensorflow:Restoring parameters from ./checkpoint_dir/cifar10\n",
      "0.72\n"
     ]
    }
   ],
   "source": [
    "with tf.Session() as sess:\n",
    "    saver=tf.train.import_meta_graph(\"./checkpoint_dir/cifar10.meta\")\n",
    "    saver.restore(sess,\"./checkpoint_dir/cifar10\")\n",
    "    #graph=tf.get_default_graph()\n",
    "    acc1=acc=sess.run(accuracy,feed_dict={x:test_data,y:test_label,keep_prob:keep_prob_use})\n",
    "    print(str(acc1))"
   ]
  },
  {
   "cell_type": "code",
   "execution_count": 18,
   "metadata": {},
   "outputs": [
    {
     "data": {
      "text/plain": [
       "0.7275"
      ]
     },
     "execution_count": 18,
     "metadata": {},
     "output_type": "execute_result"
    }
   ],
   "source": [
    "acc"
   ]
  },
  {
   "cell_type": "code",
   "execution_count": null,
   "metadata": {},
   "outputs": [],
   "source": []
  }
 ],
 "metadata": {
  "kernelspec": {
   "display_name": "Python 3",
   "language": "python",
   "name": "python3"
  },
  "language_info": {
   "codemirror_mode": {
    "name": "ipython",
    "version": 3
   },
   "file_extension": ".py",
   "mimetype": "text/x-python",
   "name": "python",
   "nbconvert_exporter": "python",
   "pygments_lexer": "ipython3",
   "version": "3.6.5"
  }
 },
 "nbformat": 4,
 "nbformat_minor": 2
}
