{
 "cells": [
  {
   "cell_type": "code",
   "execution_count": 1,
   "metadata": {},
   "outputs": [
    {
     "name": "stderr",
     "output_type": "stream",
     "text": [
      "E:\\anaconda_3\\lib\\site-packages\\h5py\\__init__.py:36: FutureWarning: Conversion of the second argument of issubdtype from `float` to `np.floating` is deprecated. In future, it will be treated as `np.float64 == np.dtype(float).type`.\n",
      "  from ._conv import register_converters as _register_converters\n"
     ]
    },
    {
     "name": "stdout",
     "output_type": "stream",
     "text": [
      "ok\n"
     ]
    }
   ],
   "source": [
    "import tensorflow as tf\n",
    "import os\n",
    "os.environ[\"TF_CPP_MIN_LOG_LEVEL\"]=\"3\"\n",
    "from tensorflow.examples.tutorials.mnist import input_data\n",
    "load_model=0\n",
    "print(\"ok\")"
   ]
  },
  {
   "cell_type": "code",
   "execution_count": 2,
   "metadata": {},
   "outputs": [
    {
     "name": "stdout",
     "output_type": "stream",
     "text": [
      "Extracting MNIST_data\\train-images-idx3-ubyte.gz\n",
      "Extracting MNIST_data\\train-labels-idx1-ubyte.gz\n",
      "Extracting MNIST_data\\t10k-images-idx3-ubyte.gz\n",
      "Extracting MNIST_data\\t10k-labels-idx1-ubyte.gz\n",
      "WARNING:tensorflow:From <ipython-input-2-8437807c94a0>:54: softmax_cross_entropy_with_logits (from tensorflow.python.ops.nn_ops) is deprecated and will be removed in a future version.\n",
      "Instructions for updating:\n",
      "\n",
      "Future major versions of TensorFlow will allow gradients to flow\n",
      "into the labels input on backprop by default.\n",
      "\n",
      "See tf.nn.softmax_cross_entropy_with_logits_v2.\n",
      "\n",
      " 0, test accuracy0.739\n",
      " 1, test accuracy0.7608\n",
      " 2, test accuracy0.883\n",
      " 3, test accuracy0.9784\n",
      " 4, test accuracy0.9817\n",
      " 5, test accuracy0.9845\n",
      " 6, test accuracy0.9829\n",
      " 7, test accuracy0.9855\n",
      " 8, test accuracy0.9843\n",
      " 9, test accuracy0.9872\n",
      "ok\n"
     ]
    }
   ],
   "source": [
    "#train\n",
    "mnist =input_data.read_data_sets('MNIST_data',one_hot=True)\n",
    "#train size\n",
    "batch_size=100\n",
    "acc_max=0\n",
    "model_path=\"ckpt/num_char.ckpt\"\n",
    "n_batch=mnist.train.num_examples//batch_size\n",
    "\n",
    "#init variables\n",
    "def weight_variable(shape):\n",
    "    initial=tf.truncated_normal(shape,stddev=0.1)\n",
    "    return tf.Variable(initial)\n",
    "def biase_variable(shape):\n",
    "    initial=tf.constant(0.1,shape=shape)\n",
    "    return tf.Variable(initial)\n",
    "    #initia conv layer\n",
    "#strides[0]=strides[2]=1\n",
    "#strides[1]=stride_x,\n",
    "#strides[3]=stride_y\n",
    "def conv2d(x,w):\n",
    "    return tf.nn.conv2d(x,w,strides=[1,1,1,1],padding='SAME')\n",
    "#pooling layer\n",
    "def max_pool(x):\n",
    "    return tf.nn.max_pool(x,ksize=[1,2,2,1],strides=[1,2,2,1],padding='SAME')\n",
    "\n",
    "x=tf.placeholder(tf.float32,[None,784])\n",
    "y=tf.placeholder(tf.float32,[None,10])\n",
    "x_image=tf.reshape(x,[-1,28,28,1])\n",
    "\n",
    "w_conv1=weight_variable([5,5,1,32])  #32 kernel  from 1 layers\n",
    "b_conv1=biase_variable([32])\n",
    "h_conv1=tf.nn.relu(conv2d(x_image,w_conv1)+b_conv1)\n",
    "h_pool1=max_pool(h_conv1)\n",
    "\n",
    "w_conv2=weight_variable([5,5,32,64])\n",
    "b_conv2=biase_variable([64])\n",
    "h_conv2=tf.nn.relu(conv2d(h_pool1,w_conv2)+b_conv2)\n",
    "h_pool2=max_pool(h_conv2)\n",
    "\n",
    "w_conv3=weight_variable([5,5,64,64])\n",
    "b_conv3=biase_variable([64])\n",
    "h_conv3=tf.nn.relu(conv2d(h_pool2,w_conv3)+b_conv3)\n",
    "\n",
    "w_fc1=weight_variable([7*7*64,1024])\n",
    "b_fc1=biase_variable([1024])\n",
    "\n",
    "h_pool2_flat=tf.reshape(h_conv3,[-1,7*7*64])\n",
    "h_fc1=tf.nn.leaky_relu(tf.matmul(h_pool2_flat,w_fc1)+b_fc1)\n",
    "\n",
    "w_fc2=weight_variable([1024,10])\n",
    "b_fc2=weight_variable([10])\n",
    "\n",
    "prediction=tf.nn.softmax(tf.matmul(h_fc1,w_fc2)+b_fc2)\n",
    "cross_entropy=tf.reduce_mean(tf.nn.softmax_cross_entropy_with_logits(labels=y,logits=prediction))\n",
    "\n",
    "train_step=tf.train.AdamOptimizer(1e-4).minimize(cross_entropy)\n",
    "correct_prediction=tf.equal(tf.argmax(prediction,1),tf.argmax(y,1))\n",
    "accuracy=tf.reduce_mean(tf.cast(correct_prediction,tf.float32))\n",
    "with tf.Session() as sess:\n",
    "    sess.run(tf.global_variables_initializer())\n",
    "    saver = tf.train.Saver()\n",
    "    for epoth in range(10):\n",
    "        for batch in range(n_batch):\n",
    "            batch_xs,batch_ys=mnist.train.next_batch(batch_size)\n",
    "            sess.run(train_step,feed_dict={x:batch_xs,y:batch_ys})\n",
    "        acc=sess.run(accuracy,feed_dict={x:mnist.test.images,y:mnist.test.labels})\n",
    "        if acc_max<acc:\n",
    "            save_path = saver.save(sess, model_path)  \n",
    "            acc_max=acc\n",
    "        print(\" \"+str(epoth)+\", test accuracy\"+str(acc))\n",
    "\n",
    "print('ok')"
   ]
  },
  {
   "cell_type": "code",
   "execution_count": null,
   "metadata": {},
   "outputs": [],
   "source": [
    " 0, test accuracy0.7663\n",
    " 1, test accuracy0.8778\n",
    " 2, test accuracy0.8865\n",
    " 3, test accuracy0.9785\n",
    " 4, test accuracy0.983\n",
    " 5, test accuracy0.9859\n",
    " 6, test accuracy0.9873\n",
    " 7, test accuracy0.9873\n",
    " 8, test accuracy0.9881\n",
    " 9, test accuracy0.9879"
   ]
  },
  {
   "cell_type": "code",
   "execution_count": 16,
   "metadata": {},
   "outputs": [
    {
     "name": "stdout",
     "output_type": "stream",
     "text": [
      "INFO:tensorflow:Restoring parameters from ckpt/num_char.ckpt\n",
      ", test accuracy[[0. 0. 0. 0. 1. 0. 0. 0. 0. 0.]]\n"
     ]
    }
   ],
   "source": [
    "\n",
    "with tf.Session() as sess:   \n",
    "    save_path = saver.restore(sess, model_path)    \n",
    "    acc=sess.run(prediction,feed_dict={x:img_use})\n",
    "    print(\", test accuracy\"+str(acc))"
   ]
  },
  {
   "cell_type": "code",
   "execution_count": 15,
   "metadata": {},
   "outputs": [
    {
     "name": "stdout",
     "output_type": "stream",
     "text": [
      "ok\n"
     ]
    }
   ],
   "source": [
    "import cv2\n",
    "import numpy as np\n",
    "img_test=cv2.imread(\"D://test_pic//4.jpg\")\n",
    "img_gray=cv2.cvtColor(img_test, cv2.COLOR_BGR2GRAY)\n",
    "img_resize=cv2.resize(img_gray,(28,28))\n",
    "img_use=np.reshape(img_resize,(1,784))\n",
    "print(\"ok\")"
   ]
  },
  {
   "cell_type": "code",
   "execution_count": null,
   "metadata": {},
   "outputs": [],
   "source": [
    "img_resize.shape"
   ]
  },
  {
   "cell_type": "code",
   "execution_count": 12,
   "metadata": {},
   "outputs": [
    {
     "name": "stdout",
     "output_type": "stream",
     "text": [
      "INFO:tensorflow:Restoring parameters from ckpt/num_char.ckpt\n",
      ", test accuracy[[0. 0. 1. 0. 0. 0. 0. 0. 0. 0.]]\n",
      "ok\n"
     ]
    }
   ],
   "source": [
    "#test\n",
    "model_path=\"ckpt/num_char.ckpt\"\n",
    "from tensorflow.python.framework import ops\n",
    "ops.reset_default_graph()\n",
    "sess = tf.InteractiveSession()\n",
    "#init variables\n",
    "def weight_variable(shape):\n",
    "    initial=tf.truncated_normal(shape,stddev=0.1)\n",
    "    return tf.Variable(initial)\n",
    "def biase_variable(shape):\n",
    "    initial=tf.constant(0.1,shape=shape)\n",
    "    return tf.Variable(initial)\n",
    "    #initia conv layer\n",
    "#strides[0]=strides[2]=1\n",
    "#strides[1]=stride_x,\n",
    "#strides[3]=stride_y\n",
    "def conv2d(x,w):\n",
    "    return tf.nn.conv2d(x,w,strides=[1,1,1,1],padding='SAME')\n",
    "#pooling layer\n",
    "def max_pool(x):\n",
    "    return tf.nn.max_pool(x,ksize=[1,2,2,1],strides=[1,2,2,1],padding='SAME')\n",
    "\n",
    "x=tf.placeholder(tf.float32,[None,784])\n",
    "\n",
    "x_image=tf.reshape(x,[-1,28,28,1])\n",
    "\n",
    "w_conv1=weight_variable([5,5,1,32])  #32 kernel  from 1 layers\n",
    "b_conv1=biase_variable([32])\n",
    "h_conv1=tf.nn.relu(conv2d(x_image,w_conv1)+b_conv1)\n",
    "h_pool1=max_pool(h_conv1)\n",
    "\n",
    "w_conv2=weight_variable([5,5,32,64])\n",
    "b_conv2=biase_variable([64])\n",
    "h_conv2=tf.nn.relu(conv2d(h_pool1,w_conv2)+b_conv2)\n",
    "h_pool2=max_pool(h_conv2)\n",
    "\n",
    "w_conv3=weight_variable([5,5,64,64])\n",
    "b_conv3=biase_variable([64])\n",
    "h_conv3=tf.nn.relu(conv2d(h_pool2,w_conv3)+b_conv3)\n",
    "\n",
    "w_fc1=weight_variable([7*7*64,1024])\n",
    "b_fc1=biase_variable([1024])\n",
    "\n",
    "h_pool2_flat=tf.reshape(h_conv3,[-1,7*7*64])\n",
    "h_fc1=tf.nn.leaky_relu(tf.matmul(h_pool2_flat,w_fc1)+b_fc1)\n",
    "\n",
    "w_fc2=weight_variable([1024,10])\n",
    "b_fc2=weight_variable([10])\n",
    "prediction=tf.nn.softmax(tf.matmul(h_fc1,w_fc2)+b_fc2)\n",
    "with tf.Session() as sess:\n",
    "    #sess.run(tf.global_variables_initializer())\n",
    "    saver = tf.train.Saver()      \n",
    "    save_path = saver.restore(sess, model_path)    \n",
    "\n",
    "    acc=sess.run(prediction,feed_dict={x:img_use})\n",
    "    print(\", test accuracy\"+str(acc))\n",
    "\n",
    "print('ok')\n"
   ]
  },
  {
   "cell_type": "code",
   "execution_count": null,
   "metadata": {},
   "outputs": [],
   "source": [
    "load_model"
   ]
  },
  {
   "cell_type": "code",
   "execution_count": null,
   "metadata": {},
   "outputs": [],
   "source": [
    "cv2.imshow(\"1\",img_resize)\n",
    "cv2.waitKey(0)"
   ]
  },
  {
   "cell_type": "code",
   "execution_count": null,
   "metadata": {},
   "outputs": [],
   "source": []
  }
 ],
 "metadata": {
  "kernelspec": {
   "display_name": "Python 3",
   "language": "python",
   "name": "python3"
  },
  "language_info": {
   "codemirror_mode": {
    "name": "ipython",
    "version": 3
   },
   "file_extension": ".py",
   "mimetype": "text/x-python",
   "name": "python",
   "nbconvert_exporter": "python",
   "pygments_lexer": "ipython3",
   "version": "3.6.4"
  }
 },
 "nbformat": 4,
 "nbformat_minor": 2
}
