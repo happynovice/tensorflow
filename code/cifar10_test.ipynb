{
 "cells": [
  {
   "cell_type": "code",
   "execution_count": null,
   "metadata": {},
   "outputs": [],
   "source": [
    "import tensorflow as tf\n",
    "import numpy as np\n",
    "\n",
    "test_data=np.load(\"c_test_data.npy\")\n",
    "test_label=np.load(\"c_test_label.npy\")\n",
    "img_size=32\n",
    "batch_size=128\n",
    "img_channel=3\n",
    "acc_max=0\n",
    "conv_kernel_1=64\n",
    "conv_kernel_2=128\n",
    "conv_kernel_3=256\n",
    "kernel_size_1=5\n",
    "kernel_size_2=5\n",
    "kernel_size_3=3\n",
    "keep_prob_use=0.7\n",
    "length_of_fc1=(img_size//4)*(img_size//4)*conv_kernel_3\n",
    "fc1_num=1600\n",
    "num_batch=50000//batch_size\n",
    "def weight_variable(shape):\n",
    "    initial=tf.truncated_normal(shape,stddev=0.01)\n",
    "    return tf.Variable(initial)\n",
    "def biase_variable(shape):\n",
    "    init=tf.constant(0.1,shape=shape)\n",
    "    return tf.Variable(init)\n",
    "\n",
    "def conv_2d(x,W):\n",
    "    return tf.nn.conv2d(x,W,strides=[1,1,1,1],padding='SAME')\n",
    "def max_pool(x):\n",
    "    return tf.nn.max_pool(x,ksize=[1,2,2,1],strides=[1,2,2,1],padding='SAME')\n",
    "\n",
    "x=tf.placeholder(tf.float32,[None,img_size,img_size,img_channel])\n",
    "y=tf.placeholder(tf.float32,[None,10])\n",
    "keep_prob=tf.placeholder(tf.float32)\n",
    "\n",
    "x_image=tf.reshape(x,[-1,img_size,img_size,img_channel])\n",
    "#\n",
    "W_conv1=weight_variable([kernel_size_1,kernel_size_1,img_channel,conv_kernel_1])  # 32 kernels extract feature from 3 plane\n",
    "b_conv1=biase_variable([conv_kernel_1])\n",
    "h_conv1=tf.nn.leaky_relu(conv_2d(x_image,W_conv1)+b_conv1)\n",
    "h_pool1=max_pool(h_conv1)\n",
    "\n",
    "\n",
    "w_conv2=weight_variable([kernel_size_2,kernel_size_2,conv_kernel_1,conv_kernel_2])\n",
    "b_conv2=biase_variable([conv_kernel_2])\n",
    "h_conv2=tf.nn.leaky_relu(conv_2d(h_pool1,w_conv2)+b_conv2)\n",
    "h_pool2=max_pool(h_conv2)\n",
    "\n",
    "w_conv3=weight_variable([kernel_size_3,kernel_size_3,conv_kernel_2,conv_kernel_3])\n",
    "b_conv3=biase_variable([conv_kernel_3])\n",
    "h_conv3=tf.nn.leaky_relu(conv_2d(h_pool2,w_conv3)+b_conv3)\n",
    "\n",
    "\n",
    "W_fc1_buff=weight_variable([length_of_fc1,fc1_num])\n",
    "b_fc1=biase_variable([fc1_num])\n",
    "W_fc1 = tf.nn.dropout(W_fc1_buff, keep_prob) \n",
    "\n",
    "h_pool2_flat=tf.reshape(h_conv3,[-1,length_of_fc1])\n",
    "h_fc1=tf.nn.leaky_relu(tf.matmul(h_pool2_flat,W_fc1)+b_fc1)\n",
    "\n",
    "W_fc2_buff=weight_variable([fc1_num,10])\n",
    "b_fc2=biase_variable([10])\n",
    "W_fc2 = tf.nn.dropout(W_fc2_buff, keep_prob) \n",
    "##\n",
    "prediction=tf.nn.softmax(tf.matmul(h_fc1,W_fc2)+b_fc2)\n",
    "cross_entropy=tf.reduce_mean(tf.nn.softmax_cross_entropy_with_logits(labels=y,logits=prediction))\n",
    "#tf.nn.sparse_softmax_cross_entropy_with_logits\n",
    "train_step=tf.train.AdamOptimizer(0.9*(1e-4)).minimize(cross_entropy)\n",
    "#结果存放在布尔变量中\n",
    "correct_prediction=tf.equal(tf.argmax(prediction,1),tf.argmax(y,1))\n",
    "accuracy=tf.reduce_mean(tf.cast(correct_prediction,tf.float32))\n"
   ]
  },
  {
   "cell_type": "code",
   "execution_count": 3,
   "metadata": {},
   "outputs": [
    {
     "data": {
      "image/png": "[encoded data removed]",
      "text/plain": [
       "<Figure size 432x288 with 1 Axes>"
      ]
     },
     "metadata": {},
     "output_type": "display_data"
    },
    {
     "name": "stdout",
     "output_type": "stream",
     "text": [
      "INFO:tensorflow:Restoring parameters from checkpoint_dir/cifar10\n",
      "output  [[1.3110686e-14 4.1595891e-02 3.4685382e-33 4.1585882e-25 2.3290797e-29\n",
      "  1.9329870e-32 7.5994284e-33 1.5588174e-35 9.5840406e-01 2.5925024e-23]]\n",
      "this picture is [8]hydrofoil\n",
      "ok\n"
     ]
    }
   ],
   "source": [
    "import tensorflow as tf\n",
    "import numpy as np\n",
    "import matplotlib.pyplot as plt # plt 用于显示图片\n",
    "import matplotlib.image as mpimg # mpimg 用于读取图片\n",
    "\n",
    "\n",
    "test_data=np.load(\"c_test_data.npy\")\n",
    "test_label=np.load(\"c_test_label.npy\")\n",
    "img_size=32\n",
    "batch_size=128\n",
    "img_channel=3\n",
    "acc_max=0\n",
    "conv_kernel_1=64\n",
    "conv_kernel_2=128\n",
    "conv_kernel_3=256\n",
    "kernel_size_1=5\n",
    "kernel_size_2=5\n",
    "kernel_size_3=3\n",
    "keep_prob_use=0.7\n",
    "length_of_fc1=(img_size//4)*(img_size//4)*conv_kernel_3\n",
    "fc1_num=1600\n",
    "num_batch=50000//batch_size\n",
    "x=tf.placeholder(tf.float32,[img_size,img_size,3])\n",
    "y=tf.placeholder(tf.float32,[10])\n",
    "keep_prob=tf.placeholder(tf.float32)\n",
    "#############3333\n",
    "test_pic=np.array(test_data[1],np.int16)\n",
    "color_buff=np.zeros([32,32],np.int16)\n",
    "for i in range(32):\n",
    "    for j in range(32):\n",
    "        color_buff[i][j]=test_pic[i][j][0]\n",
    "        test_pic[i][j][0]=test_pic[i][j][2]\n",
    "        test_pic[i][j][2]=color_buff[i][j]\n",
    "\n",
    "#################3\n",
    "#w=tf.Variable(tf.zeros([img_size,img_size,3,100]))\n",
    "#b=tf.Variable(tf.zeros([100]))\n",
    "\n",
    "def weight_variable(shape):\n",
    "    initial=tf.truncated_normal(shape,stddev=0.01)\n",
    "    return tf.Variable(initial)\n",
    "def biase_variable(shape):\n",
    "    init=tf.constant(0.1,shape=shape)\n",
    "    return tf.Variable(init)\n",
    "\n",
    "def conv_2d(x,W):\n",
    "    return tf.nn.conv2d(x,W,strides=[1,1,1,1],padding='SAME')\n",
    "def max_pool(x):\n",
    "    return tf.nn.max_pool(x,ksize=[1,2,2,1],strides=[1,2,2,1],padding='SAME')\n",
    "\n",
    "#输入层\n",
    "x_image=tf.reshape(x,[-1,img_size,img_size,img_channel])\n",
    "#\n",
    "W_conv1=weight_variable([kernel_size_1,kernel_size_1,img_channel,conv_kernel_1])  # 32 kernels extract feature from 3 plane\n",
    "b_conv1=biase_variable([conv_kernel_1])\n",
    "h_conv1=tf.nn.leaky_relu(conv_2d(x_image,W_conv1)+b_conv1)\n",
    "h_pool1=max_pool(h_conv1)\n",
    "\n",
    "\n",
    "w_conv2=weight_variable([kernel_size_2,kernel_size_2,conv_kernel_1,conv_kernel_2])\n",
    "b_conv2=biase_variable([conv_kernel_2])\n",
    "h_conv2=tf.nn.leaky_relu(conv_2d(h_pool1,w_conv2)+b_conv2)\n",
    "h_pool2=max_pool(h_conv2)\n",
    "\n",
    "w_conv3=weight_variable([kernel_size_3,kernel_size_3,conv_kernel_2,conv_kernel_3])\n",
    "b_conv3=biase_variable([conv_kernel_3])\n",
    "h_conv3=tf.nn.leaky_relu(conv_2d(h_pool2,w_conv3)+b_conv3)\n",
    "\n",
    "\n",
    "W_fc1_buff=weight_variable([length_of_fc1,fc1_num])\n",
    "b_fc1=biase_variable([fc1_num])\n",
    "W_fc1 = tf.nn.dropout(W_fc1_buff, keep_prob) \n",
    "\n",
    "h_pool2_flat=tf.reshape(h_conv3,[-1,length_of_fc1])\n",
    "h_fc1=tf.nn.leaky_relu(tf.matmul(h_pool2_flat,W_fc1)+b_fc1)\n",
    "\n",
    "W_fc2_buff=weight_variable([fc1_num,10])\n",
    "b_fc2=biase_variable([10])\n",
    "W_fc2 = tf.nn.dropout(W_fc2_buff, keep_prob) \n",
    "##\n",
    "saver=tf.train.Saver()\n",
    "prediction=tf.nn.softmax(tf.matmul(h_fc1,W_fc2)+b_fc2)\n",
    "cross_entropy=tf.reduce_mean(tf.nn.softmax_cross_entropy_with_logits(labels=y,logits=prediction))\n",
    "#tf.nn.sparse_softmax_cross_entropy_with_logits\n",
    "train_step=tf.train.AdamOptimizer(0.9*(1e-4)).minimize(cross_entropy)\n",
    "#结果存放在布尔变量中\n",
    "correct_prediction=tf.equal(tf.argmax(prediction,1),tf.argmax(y,1))\n",
    "category_buff=tf.argmax(prediction,1)\n",
    "accuracy=tf.reduce_mean(tf.cast(correct_prediction,tf.float32))\n",
    "##\n",
    "saver=tf.train.Saver()\n",
    "plt.imshow(test_pic)\n",
    "plt.axis('off') # 不显示坐标轴\n",
    "plt.show()\n",
    "with tf.Session() as sess:\n",
    "\n",
    "\n",
    "    saver.restore(sess,\"checkpoint_dir/cifar10\")\n",
    "       \n",
    "    acc=sess.run(prediction,feed_dict={x:test_data[1],keep_prob:keep_prob_use})\n",
    "    category=sess.run(tf.argmax(acc,1))\n",
    "    #category=sess.run(category_buff,feed_dict={acc:prediction})\n",
    "    print(\"output  \"+str(acc))\n",
    "print(\"this picture is \"+str(category)+\"hydrofoil\")\n",
    "print(\"ok\")"
   ]
  },
  {
   "cell_type": "code",
   "execution_count": null,
   "metadata": {},
   "outputs": [],
   "source": [
    "logs_train_dir=\"./checkpoint_dir/cifar10\"\n",
    "with tf.Session() as sess:\n",
    "    #sess.run(tf.global_variables_initializer())\n",
    "    saver=tf.train.Saver()\n",
    "    ckpt = tf.train.get_checkpoint_state(logs_train_dir)  "
   ]
  },
  {
   "cell_type": "code",
   "execution_count": 4,
   "metadata": {},
   "outputs": [],
   "source": [
    "acc=np.array(acc)"
   ]
  },
  {
   "cell_type": "code",
   "execution_count": 7,
   "metadata": {},
   "outputs": [],
   "source": [
    "acc=acc.reshape(10,1)"
   ]
  },
  {
   "cell_type": "code",
   "execution_count": 9,
   "metadata": {},
   "outputs": [
    {
     "data": {
      "image/png": "[encoded data removed]",
      "text/plain": [
       "<Figure size 432x288 with 1 Axes>"
      ]
     },
     "metadata": {},
     "output_type": "display_data"
    },
    {
     "name": "stdout",
     "output_type": "stream",
     "text": [
      "output  [[1.3110686e-14]\n",
      " [4.1595891e-02]\n",
      " [3.4685382e-33]\n",
      " [4.1585882e-25]\n",
      " [2.3290797e-29]\n",
      " [1.9329870e-32]\n",
      " [7.5994284e-33]\n",
      " [1.5588174e-35]\n",
      " [9.5840406e-01]\n",
      " [2.5925024e-23]]\n",
      "this picture is [8]hydrofoil\n"
     ]
    }
   ],
   "source": [
    "plt.imshow(test_pic)\n",
    "plt.axis('off') # 不显示坐标轴\n",
    "plt.show()\n",
    "print(\"output  \"+str(acc))\n",
    "print(\"this picture is \"+str(category)+\"hydrofoil\")"
   ]
  },
  {
   "cell_type": "code",
   "execution_count": null,
   "metadata": {},
   "outputs": [],
   "source": []
  },
  {
   "cell_type": "code",
   "execution_count": null,
   "metadata": {},
   "outputs": [],
   "source": []
  },
  {
   "cell_type": "code",
   "execution_count": null,
   "metadata": {},
   "outputs": [],
   "source": []
  },
  {
   "cell_type": "code",
   "execution_count": null,
   "metadata": {},
   "outputs": [],
   "source": []
  }
 ],
 "metadata": {
  "kernelspec": {
   "display_name": "Python 3",
   "language": "python",
   "name": "python3"
  },
  "language_info": {
   "codemirror_mode": {
    "name": "ipython",
    "version": 3
   },
   "file_extension": ".py",
   "mimetype": "text/x-python",
   "name": "python",
   "nbconvert_exporter": "python",
   "pygments_lexer": "ipython3",
   "version": "3.6.5"
  }
 },
 "nbformat": 4,
 "nbformat_minor": 2
}
